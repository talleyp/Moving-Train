{
 "cells": [
  {
   "cell_type": "code",
   "execution_count": null,
   "metadata": {
    "collapsed": true
   },
   "outputs": [],
   "source": [
    "# Calculate the speed and acceleration of the train by using power generated from a steam engine \n",
    "# Using https://en.wikipedia.org/wiki/Union_Pacific_Big_Boy as the base train\n",
    "## Maximum speed 80 mph (130 km/h)[2]\n",
    "## Power output 6,290 hp (4,690 kW) @ 35 mph\n",
    "## Tractive effort 135,375 lbf (602.18 kN)\n",
    "## Factor of adh. 3.99\n",
    "## Total weight 1,250,000 lb (567,000 kg)\n",
    "\n",
    "Vmax = 35\n"
   ]
  }
 ],
 "metadata": {
  "kernelspec": {
   "display_name": "Julia 0.6.0",
   "language": "julia",
   "name": "julia-0.6"
  },
  "language_info": {
   "file_extension": ".jl",
   "mimetype": "application/julia",
   "name": "julia",
   "version": "0.6.0"
  }
 },
 "nbformat": 4,
 "nbformat_minor": 2
}
