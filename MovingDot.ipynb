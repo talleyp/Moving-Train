{
 "cells": [
  {
   "cell_type": "code",
   "execution_count": 49,
   "metadata": {
    "scrolled": true
   },
   "outputs": [
    {
     "ename": "LoadError",
     "evalue": "\u001b[91mpng output from the plotly backend is not supported.  Please use plotlyjs instead.\u001b[39m",
     "output_type": "error",
     "traceback": [
      "\u001b[91mpng output from the plotly backend is not supported.  Please use plotlyjs instead.\u001b[39m",
      "",
      "Stacktrace:",
      " [1] \u001b[1mshow\u001b[22m\u001b[22m\u001b[1m(\u001b[22m\u001b[22m::IOStream, ::MIME{Symbol(\"image/png\")}, ::Plots.Plot{Plots.PlotlyBackend}\u001b[1m)\u001b[22m\u001b[22m at \u001b[1mC:\\Users\\ptalley\\.julia\\v0.6\\Plots\\src\\output.jl:197\u001b[22m\u001b[22m",
      " [2] \u001b[1mpng\u001b[22m\u001b[22m\u001b[1m(\u001b[22m\u001b[22m::Plots.Plot{Plots.PlotlyBackend}, ::String\u001b[1m)\u001b[22m\u001b[22m at \u001b[1mC:\\Users\\ptalley\\.julia\\v0.6\\Plots\\src\\output.jl:8\u001b[22m\u001b[22m",
      " [3] \u001b[1mframe\u001b[22m\u001b[22m\u001b[1m(\u001b[22m\u001b[22m::Plots.Animation, ::Plots.Plot{Plots.PlotlyBackend}\u001b[1m)\u001b[22m\u001b[22m at \u001b[1mC:\\Users\\ptalley\\.julia\\v0.6\\Plots\\src\\animation.jl:15\u001b[22m\u001b[22m",
      " [4] \u001b[1mframe\u001b[22m\u001b[22m\u001b[1m(\u001b[22m\u001b[22m::Plots.Animation\u001b[1m)\u001b[22m\u001b[22m at \u001b[1mC:\\Users\\ptalley\\.julia\\v0.6\\Plots\\src\\animation.jl:13\u001b[22m\u001b[22m",
      " [5] \u001b[1mmacro expansion\u001b[22m\u001b[22m at \u001b[1mC:\\Users\\ptalley\\.julia\\v0.6\\Plots\\src\\animation.jl:145\u001b[22m\u001b[22m [inlined]",
      " [6] \u001b[1mmacro expansion\u001b[22m\u001b[22m at \u001b[1m.\\In[49]:18\u001b[22m\u001b[22m [inlined]",
      " [7] \u001b[1mmacro expansion\u001b[22m\u001b[22m at \u001b[1mC:\\Users\\ptalley\\.julia\\v0.6\\Plots\\src\\animation.jl:155\u001b[22m\u001b[22m [inlined]",
      " [8] \u001b[1manonymous\u001b[22m\u001b[22m at \u001b[1m.\\<missing>:?\u001b[22m\u001b[22m"
     ]
    }
   ],
   "source": [
    "using Plots\n",
    "n = 1000\n",
    "x = linspace(0, 2*pi, n);\n",
    "\n",
    "y1 = sin.(x);\n",
    "y2 = y1 - 1;\n",
    "\n",
    "plot(x, y1, legend=false, )\n",
    "plot!(x, y2)\n",
    "\n",
    "f1(x) = sin(x)\n",
    "f2(x) = sin(x) - 1\n",
    "\n",
    "\n",
    "@gif for i=1:(n-50)\n",
    "    Train = [f1(x[i]) f2(x[i]) f2(x[i+50]) f1(x[i+50]) f1(x[i]);\n",
    "            x[i] x[i] x[i+50] x[i+50] x[i]]\n",
    "    plot!(Train[2,:], Train[1,:],fill=(0,:blue))\n",
    "end every 10\n",
    "      "
   ]
  },
  {
   "cell_type": "code",
   "execution_count": 50,
   "metadata": {},
   "outputs": [
    {
     "ename": "LoadError",
     "evalue": "\u001b[91mpng output from the plotly backend is not supported.  Please use plotlyjs instead.\u001b[39m",
     "output_type": "error",
     "traceback": [
      "\u001b[91mpng output from the plotly backend is not supported.  Please use plotlyjs instead.\u001b[39m",
      "",
      "Stacktrace:",
      " [1] \u001b[1mshow\u001b[22m\u001b[22m\u001b[1m(\u001b[22m\u001b[22m::IOStream, ::MIME{Symbol(\"image/png\")}, ::Plots.Plot{Plots.PlotlyBackend}\u001b[1m)\u001b[22m\u001b[22m at \u001b[1mC:\\Users\\ptalley\\.julia\\v0.6\\Plots\\src\\output.jl:197\u001b[22m\u001b[22m",
      " [2] \u001b[1mpng\u001b[22m\u001b[22m\u001b[1m(\u001b[22m\u001b[22m::Plots.Plot{Plots.PlotlyBackend}, ::String\u001b[1m)\u001b[22m\u001b[22m at \u001b[1mC:\\Users\\ptalley\\.julia\\v0.6\\Plots\\src\\output.jl:8\u001b[22m\u001b[22m",
      " [3] \u001b[1mframe\u001b[22m\u001b[22m\u001b[1m(\u001b[22m\u001b[22m::Plots.Animation, ::Plots.Plot{Plots.PlotlyBackend}\u001b[1m)\u001b[22m\u001b[22m at \u001b[1mC:\\Users\\ptalley\\.julia\\v0.6\\Plots\\src\\animation.jl:15\u001b[22m\u001b[22m",
      " [4] \u001b[1mframe\u001b[22m\u001b[22m\u001b[1m(\u001b[22m\u001b[22m::Plots.Animation\u001b[1m)\u001b[22m\u001b[22m at \u001b[1mC:\\Users\\ptalley\\.julia\\v0.6\\Plots\\src\\animation.jl:13\u001b[22m\u001b[22m",
      " [5] \u001b[1mmacro expansion\u001b[22m\u001b[22m at \u001b[1mC:\\Users\\ptalley\\.julia\\v0.6\\Plots\\src\\animation.jl:145\u001b[22m\u001b[22m [inlined]",
      " [6] \u001b[1mmacro expansion\u001b[22m\u001b[22m at \u001b[1m.\\In[50]:17\u001b[22m\u001b[22m [inlined]",
      " [7] \u001b[1mmacro expansion\u001b[22m\u001b[22m at \u001b[1mC:\\Users\\ptalley\\.julia\\v0.6\\Plots\\src\\animation.jl:155\u001b[22m\u001b[22m [inlined]",
      " [8] \u001b[1manonymous\u001b[22m\u001b[22m at \u001b[1m.\\<missing>:?\u001b[22m\u001b[22m"
     ]
    }
   ],
   "source": [
    "# initialize the attractor\n",
    "n = 1500\n",
    "dt = 0.02\n",
    "σ, ρ, β = 10., 28., 8/3\n",
    "x, y, z = 1., 1., 1.\n",
    "\n",
    "# initialize a 3D plot with 1 empty series\n",
    "plt = path3d(1, xlim=(-25,25), ylim=(-25,25), zlim=(0,50),\n",
    "                xlab = \"x\", ylab = \"y\", zlab = \"z\",\n",
    "                title = \"Lorenz Attractor\", marker = 1)\n",
    "\n",
    "# build an animated gif, saving every 10th frame\n",
    "@gif for i=1:n\n",
    "    dx = σ*(y - x)     ; x += dt * dx\n",
    "    dy = x*(ρ - z) - y ; y += dt * dy\n",
    "    dz = x*y - β*z     ; z += dt * dz\n",
    "    push!(plt, x, y, z)\n",
    "end every 10"
   ]
  },
  {
   "cell_type": "code",
   "execution_count": 44,
   "metadata": {},
   "outputs": [
    {
     "name": "stderr",
     "output_type": "stream",
     "text": [
      "\u001b[1m\u001b[36mINFO: \u001b[39m\u001b[22m\u001b[36mCloning AnimatedPlots from https://github.com/zyedidia/AnimatedPlots.jl\n",
      "\u001b[39m\u001b[1m\u001b[36mINFO: \u001b[39m\u001b[22m\u001b[36mComputing changes...\n",
      "\u001b[39m\u001b[1m\u001b[36mINFO: \u001b[39m\u001b[22m\u001b[36mCloning cache of SFML from https://github.com/zyedidia/SFML.jl.git\n",
      "\u001b[39m\u001b[1m\u001b[36mINFO: \u001b[39m\u001b[22m\u001b[36mInstalling SFML v0.2.0\n",
      "\u001b[39m\u001b[1m\u001b[36mINFO: \u001b[39m\u001b[22m\u001b[36mBuilding WinRPM\n",
      "\u001b[39m\u001b[1m\u001b[36mINFO: \u001b[39m\u001b[22m\u001b[36mDownloading https://cache.julialang.org/http://download.opensuse.org/repositories/windows:/mingw:/win32/openSUSE_Leap_42.2/repodata/repomd.xml\n",
      "\u001b[39m\u001b[1m\u001b[36mINFO: \u001b[39m\u001b[22m\u001b[36mDownloading https://cache.julialang.org/http://download.opensuse.org/repositories/windows:/mingw:/win32/openSUSE_Leap_42.2/repodata/beb2e2406f046b832799d7235e9832252dc5856f7041c8824f4fee4e7657ecb6-primary.xml.gz\n",
      "\u001b[39m\u001b[1m\u001b[36mINFO: \u001b[39m\u001b[22m\u001b[36mDownloading https://cache.julialang.org/http://download.opensuse.org/repositories/windows:/mingw:/win64/openSUSE_Leap_42.2/repodata/repomd.xml\n",
      "\u001b[39m\u001b[1m\u001b[36mINFO: \u001b[39m\u001b[22m\u001b[36mDownloading https://cache.julialang.org/http://download.opensuse.org/repositories/windows:/mingw:/win64/openSUSE_Leap_42.2/repodata/878a8979cc64b0583911c1831eec9b1d2f93c5aee9e3e3b6a0b8d2aaed910eac-primary.xml.gz\n",
      "\u001b[39m\u001b[1m\u001b[36mINFO: \u001b[39m\u001b[22m\u001b[36mBuilding SFML\n",
      "\u001b[39m\u001b[1m\u001b[33m\u001b[39m\u001b[22m\u001b[33m================================[ ERROR: SFML ]=================================\u001b[39m\n",
      "\n",
      "\u001b[1m\u001b[33m\u001b[39m\u001b[22m\u001b[33mLoadError: \u001b[91mUndefVarError: @windows_only not defined\u001b[39m\n",
      "while loading C:\\Users\\ptalley\\.julia\\v0.6\\SFML\\deps\\build.jl, in expression starting on line 1\u001b[39m\n",
      "\n",
      "\u001b[1m\u001b[33m\u001b[39m\u001b[22m\u001b[33m================================================================================\u001b[39m\n",
      "\n",
      "\u001b[1m\u001b[33m\u001b[39m\u001b[22m\u001b[33m================================[ BUILD ERRORS ]================================\u001b[39m\n",
      "\n",
      "\u001b[1m\u001b[33m\u001b[39m\u001b[22m\u001b[33mWARNING: SFML had build errors.\n",
      "\n",
      " - packages with build errors remain installed in C:\\Users\\ptalley\\.julia\\v0.6\n",
      " - build the package(s) and all dependencies with `Pkg.build(\"SFML\")`\n",
      " - build a single package by running its `deps/build.jl` script\u001b[39m\n",
      "\n",
      "\u001b[1m\u001b[33m\u001b[39m\u001b[22m\u001b[33m================================================================================\u001b[39m\n"
     ]
    }
   ],
   "source": [
    "Pkg.clone(\"https://github.com/zyedidia/AnimatedPlots.jl\")"
   ]
  },
  {
   "cell_type": "code",
   "execution_count": null,
   "metadata": {
    "collapsed": true
   },
   "outputs": [],
   "source": []
  }
 ],
 "metadata": {
  "kernelspec": {
   "display_name": "Julia 0.6.0",
   "language": "julia",
   "name": "julia-0.6"
  },
  "language_info": {
   "file_extension": ".jl",
   "mimetype": "application/julia",
   "name": "julia",
   "version": "0.6.0"
  }
 },
 "nbformat": 4,
 "nbformat_minor": 2
}
